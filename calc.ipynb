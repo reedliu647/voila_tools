{
 "cells": [
  {
   "cell_type": "code",
   "execution_count": 4,
   "id": "ac8c5e4a-813d-4c26-86b5-d0e3318cde03",
   "metadata": {},
   "outputs": [
    {
     "data": {
      "application/vnd.jupyter.widget-view+json": {
       "model_id": "80f084cd02904bec94ef267f3f0c2712",
       "version_major": 2,
       "version_minor": 0
      },
      "text/plain": [
       "VBox(children=(HBox(children=(FloatText(value=0.0, description='Side Length (s)='), FloatText(value=0.0, descr…"
      ]
     },
     "execution_count": 4,
     "metadata": {},
     "output_type": "execute_result"
    }
   ],
   "source": [
    "import ipywidgets as widgets\n",
    "import math\n",
    "\n",
    "# Input widgets\n",
    "side_length_input = widgets.FloatText(description='Side Length (s)=')\n",
    "area_input = widgets.FloatText(description='Area=')\n",
    "\n",
    "# Button to trigger calculation\n",
    "calculate_button = widgets.Button(\n",
    "    description='Calculate Estimated Points',\n",
    "    layout=widgets.Layout(left='220px'))\n",
    "\n",
    "# Label to display the result\n",
    "result_label = widgets.HTML(value='')\n",
    "\n",
    "def calculate(*ignore):\n",
    "    s = side_length_input.value\n",
    "    area_shape = area_input.value\n",
    "\n",
    "    # Calculate the area of a single hexagon with side length s\n",
    "    area_hexagon = (3 * math.sqrt(3) / 2) * s**2\n",
    "\n",
    "    # Estimate the number of points that can be placed inside the irregular shape\n",
    "    estimated_num_points = area_shape / area_hexagon\n",
    "    \n",
    "    result_label.value = f'<b>Estimated Number of Points: {estimated_num_points:.2f}</b>'\n",
    "    \n",
    "calculate_button.on_click(calculate)\n",
    "\n",
    "# Combine widgets into a layout\n",
    "layout = widgets.VBox([\n",
    "    widgets.HBox([\n",
    "        side_length_input,\n",
    "        area_input\n",
    "    ]),\n",
    "    calculate_button,\n",
    "    result_label\n",
    "])\n",
    "\n",
    "layout\n"
   ]
  },
  {
   "cell_type": "code",
   "execution_count": null,
   "id": "27a2078b-29da-44a3-bf05-1b39f04c675e",
   "metadata": {},
   "outputs": [],
   "source": []
  }
 ],
 "metadata": {
  "kernelspec": {
   "display_name": "reed_env",
   "language": "python",
   "name": "reed_env"
  },
  "language_info": {
   "codemirror_mode": {
    "name": "ipython",
    "version": 3
   },
   "file_extension": ".py",
   "mimetype": "text/x-python",
   "name": "python",
   "nbconvert_exporter": "python",
   "pygments_lexer": "ipython3",
   "version": "3.8.10"
  },
  "widgets": {
   "application/vnd.jupyter.widget-state+json": {
    "state": {
     "1044bd65e1c84a06a02fd950994f594a": {
      "model_module": "@jupyter-widgets/controls",
      "model_module_version": "2.0.0",
      "model_name": "FloatTextModel",
      "state": {
       "description": "Area=",
       "layout": "IPY_MODEL_29e2033cbec24521be5ac89878c6d4e5",
       "step": null,
       "style": "IPY_MODEL_315f67638c59468f8e7544d471287cbb",
       "value": 440
      }
     },
     "10b8303d375b4f2887fe986ecf2c8416": {
      "model_module": "@jupyter-widgets/base",
      "model_module_version": "2.0.0",
      "model_name": "LayoutModel",
      "state": {}
     },
     "129f1db55a4d4829b1cc29e246995591": {
      "model_module": "@jupyter-widgets/base",
      "model_module_version": "2.0.0",
      "model_name": "LayoutModel",
      "state": {}
     },
     "14845c3d728546abad6d730dd4fc547a": {
      "model_module": "@jupyter-widgets/base",
      "model_module_version": "2.0.0",
      "model_name": "LayoutModel",
      "state": {
       "left": "30px"
      }
     },
     "163f5f992c2d4e2c8f58e604342d5616": {
      "model_module": "@jupyter-widgets/base",
      "model_module_version": "2.0.0",
      "model_name": "LayoutModel",
      "state": {
       "left": "220px"
      }
     },
     "1673e8d2b20845c5bae1bf76378b4163": {
      "model_module": "@jupyter-widgets/controls",
      "model_module_version": "2.0.0",
      "model_name": "ButtonModel",
      "state": {
       "description": "A + B = ?",
       "layout": "IPY_MODEL_a018a46a83bf4f469b7074a41b05e9e8",
       "style": "IPY_MODEL_dd8ad06c89894ca4ae57aab823385a17",
       "tooltip": null
      }
     },
     "19c693bfd0924bdbb8a02ba6a1782462": {
      "model_module": "@jupyter-widgets/controls",
      "model_module_version": "2.0.0",
      "model_name": "LabelStyleModel",
      "state": {
       "description_width": "",
       "font_family": null,
       "font_size": null,
       "font_style": null,
       "font_variant": null,
       "font_weight": null,
       "text_color": null,
       "text_decoration": null
      }
     },
     "1fdcdad2f6384abea0f8d027e6d25e02": {
      "model_module": "@jupyter-widgets/controls",
      "model_module_version": "2.0.0",
      "model_name": "TextStyleModel",
      "state": {
       "description_width": "",
       "font_size": null,
       "text_color": null
      }
     },
     "20800ebc4ea643f38852e27e5901b26f": {
      "model_module": "@jupyter-widgets/controls",
      "model_module_version": "2.0.0",
      "model_name": "TextStyleModel",
      "state": {
       "description_width": "",
       "font_size": null,
       "text_color": null
      }
     },
     "21c47c3e255b4ed5973682600fe7858a": {
      "model_module": "@jupyter-widgets/base",
      "model_module_version": "2.0.0",
      "model_name": "LayoutModel",
      "state": {}
     },
     "242f3b25dd0c4dd8b6b7dcc02609d7aa": {
      "model_module": "@jupyter-widgets/base",
      "model_module_version": "2.0.0",
      "model_name": "LayoutModel",
      "state": {
       "left": "220px"
      }
     },
     "27f5ab276768474d93f377265589134e": {
      "model_module": "@jupyter-widgets/controls",
      "model_module_version": "2.0.0",
      "model_name": "ButtonModel",
      "state": {
       "description": "Calculate Estimated Points",
       "layout": "IPY_MODEL_242f3b25dd0c4dd8b6b7dcc02609d7aa",
       "style": "IPY_MODEL_b8e59479373841708c652049fb78dac8",
       "tooltip": null
      }
     },
     "29e2033cbec24521be5ac89878c6d4e5": {
      "model_module": "@jupyter-widgets/base",
      "model_module_version": "2.0.0",
      "model_name": "LayoutModel",
      "state": {}
     },
     "2a6273d2540748fd8223a6020b3a5660": {
      "model_module": "@jupyter-widgets/base",
      "model_module_version": "2.0.0",
      "model_name": "LayoutModel",
      "state": {
       "left": "30px"
      }
     },
     "2bc7269630a24f5a82fa190735aa8c80": {
      "model_module": "@jupyter-widgets/controls",
      "model_module_version": "2.0.0",
      "model_name": "HTMLModel",
      "state": {
       "layout": "IPY_MODEL_cd646f12fa1a4243a935ed5c422f41ee",
       "style": "IPY_MODEL_929a2658b0474bbda3268d438d3cfb98",
       "value": "<b>300</b>"
      }
     },
     "2e9900f0a6fa4c0fbcf7de5c55d1c1dc": {
      "model_module": "@jupyter-widgets/controls",
      "model_module_version": "2.0.0",
      "model_name": "TextStyleModel",
      "state": {
       "description_width": "",
       "font_size": null,
       "text_color": null
      }
     },
     "315892fd42204e13b49997d4490bc5a0": {
      "model_module": "@jupyter-widgets/base",
      "model_module_version": "2.0.0",
      "model_name": "LayoutModel",
      "state": {}
     },
     "315f67638c59468f8e7544d471287cbb": {
      "model_module": "@jupyter-widgets/controls",
      "model_module_version": "2.0.0",
      "model_name": "DescriptionStyleModel",
      "state": {
       "description_width": ""
      }
     },
     "42d516a3d1994516befb704419f9391c": {
      "model_module": "@jupyter-widgets/controls",
      "model_module_version": "2.0.0",
      "model_name": "HBoxModel",
      "state": {
       "children": [
        "IPY_MODEL_56dee2572aae470aaa159d778b0a2122",
        "IPY_MODEL_1044bd65e1c84a06a02fd950994f594a"
       ],
       "layout": "IPY_MODEL_21c47c3e255b4ed5973682600fe7858a"
      }
     },
     "463e1d0c42134a0b973c98594bf7fe34": {
      "model_module": "@jupyter-widgets/controls",
      "model_module_version": "2.0.0",
      "model_name": "TextModel",
      "state": {
       "description": "A=",
       "layout": "IPY_MODEL_315892fd42204e13b49997d4490bc5a0",
       "style": "IPY_MODEL_2e9900f0a6fa4c0fbcf7de5c55d1c1dc",
       "value": "100"
      }
     },
     "49d2ae7bd87b4d20a93ffabd82fb0f0f": {
      "model_module": "@jupyter-widgets/controls",
      "model_module_version": "2.0.0",
      "model_name": "TextModel",
      "state": {
       "description": "A=",
       "layout": "IPY_MODEL_e4581fa9d88c4bbe8171548203031812",
       "style": "IPY_MODEL_1fdcdad2f6384abea0f8d027e6d25e02",
       "value": "150"
      }
     },
     "4d38272f5e964618a831332e162eb172": {
      "model_module": "@jupyter-widgets/controls",
      "model_module_version": "2.0.0",
      "model_name": "ButtonModel",
      "state": {
       "description": "A + B = ?",
       "layout": "IPY_MODEL_163f5f992c2d4e2c8f58e604342d5616",
       "style": "IPY_MODEL_de0bc2a840644f8195425a3b21dd4454",
       "tooltip": null
      }
     },
     "56dee2572aae470aaa159d778b0a2122": {
      "model_module": "@jupyter-widgets/controls",
      "model_module_version": "2.0.0",
      "model_name": "FloatTextModel",
      "state": {
       "description": "Side Length (s)=",
       "layout": "IPY_MODEL_c8fa89c67c1140d4bf5c8f4ab7faed3e",
       "step": null,
       "style": "IPY_MODEL_c628a5f7fb9d4c54b9d24a9ca0c9bc36",
       "value": 3
      }
     },
     "697d6a8b5d7448e4b22f476b7dcf48d5": {
      "model_module": "@jupyter-widgets/controls",
      "model_module_version": "2.0.0",
      "model_name": "HTMLStyleModel",
      "state": {
       "description_width": "",
       "font_size": null,
       "text_color": null
      }
     },
     "7b1a999c62184efcb9582530bcdba4da": {
      "model_module": "@jupyter-widgets/controls",
      "model_module_version": "2.0.0",
      "model_name": "TextModel",
      "state": {
       "description": "B=",
       "layout": "IPY_MODEL_f73b7bb9c1184e019f8170372890847d",
       "style": "IPY_MODEL_a594e1d26be94ffbb59158378695e90a",
       "value": "200"
      }
     },
     "80f084cd02904bec94ef267f3f0c2712": {
      "model_module": "@jupyter-widgets/controls",
      "model_module_version": "2.0.0",
      "model_name": "VBoxModel",
      "state": {
       "children": [
        "IPY_MODEL_42d516a3d1994516befb704419f9391c",
        "IPY_MODEL_27f5ab276768474d93f377265589134e",
        "IPY_MODEL_f8d0a799d7ba43449c259834fe54f536"
       ],
       "layout": "IPY_MODEL_f5eed921dbd1423191e2acfdff8417a8"
      }
     },
     "87b99a8075ba421e97b849b97509aea5": {
      "model_module": "@jupyter-widgets/controls",
      "model_module_version": "2.0.0",
      "model_name": "VBoxModel",
      "state": {
       "children": [
        "IPY_MODEL_abb09396c61a4cb8b47e328c83ad485a",
        "IPY_MODEL_4d38272f5e964618a831332e162eb172",
        "IPY_MODEL_c270c3da8c394220bd6fa550f1218a11"
       ],
       "layout": "IPY_MODEL_a44af3c183ce429a863a2cbbd5c52192"
      }
     },
     "929a2658b0474bbda3268d438d3cfb98": {
      "model_module": "@jupyter-widgets/controls",
      "model_module_version": "2.0.0",
      "model_name": "HTMLStyleModel",
      "state": {
       "description_width": "",
       "font_size": null,
       "text_color": null
      }
     },
     "a018a46a83bf4f469b7074a41b05e9e8": {
      "model_module": "@jupyter-widgets/base",
      "model_module_version": "2.0.0",
      "model_name": "LayoutModel",
      "state": {
       "left": "220px"
      }
     },
     "a44af3c183ce429a863a2cbbd5c52192": {
      "model_module": "@jupyter-widgets/base",
      "model_module_version": "2.0.0",
      "model_name": "LayoutModel",
      "state": {}
     },
     "a594e1d26be94ffbb59158378695e90a": {
      "model_module": "@jupyter-widgets/controls",
      "model_module_version": "2.0.0",
      "model_name": "TextStyleModel",
      "state": {
       "description_width": "",
       "font_size": null,
       "text_color": null
      }
     },
     "abb09396c61a4cb8b47e328c83ad485a": {
      "model_module": "@jupyter-widgets/controls",
      "model_module_version": "2.0.0",
      "model_name": "HBoxModel",
      "state": {
       "children": [
        "IPY_MODEL_49d2ae7bd87b4d20a93ffabd82fb0f0f",
        "IPY_MODEL_dcde9fa4650544fd8d8c841302f5b2b3",
        "IPY_MODEL_f5305ba07772462a98dba578a20c6eb9"
       ],
       "layout": "IPY_MODEL_e06c12bf9c594fca8ff637b862e20de4"
      }
     },
     "b8e59479373841708c652049fb78dac8": {
      "model_module": "@jupyter-widgets/controls",
      "model_module_version": "2.0.0",
      "model_name": "ButtonStyleModel",
      "state": {
       "font_family": null,
       "font_size": null,
       "font_style": null,
       "font_variant": null,
       "font_weight": null,
       "text_color": null,
       "text_decoration": null
      }
     },
     "b9881564c0c44a4b9b9aa1d9190511c5": {
      "model_module": "@jupyter-widgets/controls",
      "model_module_version": "2.0.0",
      "model_name": "VBoxModel",
      "state": {
       "children": [
        "IPY_MODEL_bdaccffd65eb4cd4bb60c3c4b57db06a",
        "IPY_MODEL_1673e8d2b20845c5bae1bf76378b4163",
        "IPY_MODEL_2bc7269630a24f5a82fa190735aa8c80"
       ],
       "layout": "IPY_MODEL_10b8303d375b4f2887fe986ecf2c8416"
      }
     },
     "bdaccffd65eb4cd4bb60c3c4b57db06a": {
      "model_module": "@jupyter-widgets/controls",
      "model_module_version": "2.0.0",
      "model_name": "HBoxModel",
      "state": {
       "children": [
        "IPY_MODEL_463e1d0c42134a0b973c98594bf7fe34",
        "IPY_MODEL_cb229360a0bb4344b8857ba8927f4544",
        "IPY_MODEL_7b1a999c62184efcb9582530bcdba4da"
       ],
       "layout": "IPY_MODEL_129f1db55a4d4829b1cc29e246995591"
      }
     },
     "c270c3da8c394220bd6fa550f1218a11": {
      "model_module": "@jupyter-widgets/controls",
      "model_module_version": "2.0.0",
      "model_name": "HTMLModel",
      "state": {
       "layout": "IPY_MODEL_d97ab512e75649a688e8334747c86baa",
       "style": "IPY_MODEL_697d6a8b5d7448e4b22f476b7dcf48d5",
       "value": "<b>150150</b>"
      }
     },
     "c628a5f7fb9d4c54b9d24a9ca0c9bc36": {
      "model_module": "@jupyter-widgets/controls",
      "model_module_version": "2.0.0",
      "model_name": "DescriptionStyleModel",
      "state": {
       "description_width": ""
      }
     },
     "c8fa89c67c1140d4bf5c8f4ab7faed3e": {
      "model_module": "@jupyter-widgets/base",
      "model_module_version": "2.0.0",
      "model_name": "LayoutModel",
      "state": {}
     },
     "ca0725fd4e274d84a002ae933ca46f96": {
      "model_module": "@jupyter-widgets/controls",
      "model_module_version": "2.0.0",
      "model_name": "LabelStyleModel",
      "state": {
       "description_width": "",
       "font_family": null,
       "font_size": null,
       "font_style": null,
       "font_variant": null,
       "font_weight": null,
       "text_color": null,
       "text_decoration": null
      }
     },
     "cb229360a0bb4344b8857ba8927f4544": {
      "model_module": "@jupyter-widgets/controls",
      "model_module_version": "2.0.0",
      "model_name": "LabelModel",
      "state": {
       "layout": "IPY_MODEL_14845c3d728546abad6d730dd4fc547a",
       "style": "IPY_MODEL_ca0725fd4e274d84a002ae933ca46f96",
       "value": "+"
      }
     },
     "cc1418562004491c81ba445d00a68d50": {
      "model_module": "@jupyter-widgets/controls",
      "model_module_version": "2.0.0",
      "model_name": "HTMLStyleModel",
      "state": {
       "description_width": "",
       "font_size": null,
       "text_color": null
      }
     },
     "cd646f12fa1a4243a935ed5c422f41ee": {
      "model_module": "@jupyter-widgets/base",
      "model_module_version": "2.0.0",
      "model_name": "LayoutModel",
      "state": {}
     },
     "d6b547260a6a42aeae04fe7ca3059dba": {
      "model_module": "@jupyter-widgets/base",
      "model_module_version": "2.0.0",
      "model_name": "LayoutModel",
      "state": {}
     },
     "d97ab512e75649a688e8334747c86baa": {
      "model_module": "@jupyter-widgets/base",
      "model_module_version": "2.0.0",
      "model_name": "LayoutModel",
      "state": {}
     },
     "dcde9fa4650544fd8d8c841302f5b2b3": {
      "model_module": "@jupyter-widgets/controls",
      "model_module_version": "2.0.0",
      "model_name": "LabelModel",
      "state": {
       "layout": "IPY_MODEL_2a6273d2540748fd8223a6020b3a5660",
       "style": "IPY_MODEL_19c693bfd0924bdbb8a02ba6a1782462",
       "value": "+"
      }
     },
     "dd8ad06c89894ca4ae57aab823385a17": {
      "model_module": "@jupyter-widgets/controls",
      "model_module_version": "2.0.0",
      "model_name": "ButtonStyleModel",
      "state": {
       "font_family": null,
       "font_size": null,
       "font_style": null,
       "font_variant": null,
       "font_weight": null,
       "text_color": null,
       "text_decoration": null
      }
     },
     "de0bc2a840644f8195425a3b21dd4454": {
      "model_module": "@jupyter-widgets/controls",
      "model_module_version": "2.0.0",
      "model_name": "ButtonStyleModel",
      "state": {
       "font_family": null,
       "font_size": null,
       "font_style": null,
       "font_variant": null,
       "font_weight": null,
       "text_color": null,
       "text_decoration": null
      }
     },
     "e06c12bf9c594fca8ff637b862e20de4": {
      "model_module": "@jupyter-widgets/base",
      "model_module_version": "2.0.0",
      "model_name": "LayoutModel",
      "state": {}
     },
     "e4581fa9d88c4bbe8171548203031812": {
      "model_module": "@jupyter-widgets/base",
      "model_module_version": "2.0.0",
      "model_name": "LayoutModel",
      "state": {}
     },
     "f5305ba07772462a98dba578a20c6eb9": {
      "model_module": "@jupyter-widgets/controls",
      "model_module_version": "2.0.0",
      "model_name": "TextModel",
      "state": {
       "description": "B=",
       "layout": "IPY_MODEL_d6b547260a6a42aeae04fe7ca3059dba",
       "style": "IPY_MODEL_20800ebc4ea643f38852e27e5901b26f",
       "value": "150"
      }
     },
     "f5eed921dbd1423191e2acfdff8417a8": {
      "model_module": "@jupyter-widgets/base",
      "model_module_version": "2.0.0",
      "model_name": "LayoutModel",
      "state": {}
     },
     "f73b7bb9c1184e019f8170372890847d": {
      "model_module": "@jupyter-widgets/base",
      "model_module_version": "2.0.0",
      "model_name": "LayoutModel",
      "state": {}
     },
     "f8d0a799d7ba43449c259834fe54f536": {
      "model_module": "@jupyter-widgets/controls",
      "model_module_version": "2.0.0",
      "model_name": "HTMLModel",
      "state": {
       "layout": "IPY_MODEL_feedbd11e12743b78ed3580709d4ae6a",
       "style": "IPY_MODEL_cc1418562004491c81ba445d00a68d50",
       "value": "<b>Estimated Number of Points: 18.82</b>"
      }
     },
     "feedbd11e12743b78ed3580709d4ae6a": {
      "model_module": "@jupyter-widgets/base",
      "model_module_version": "2.0.0",
      "model_name": "LayoutModel",
      "state": {}
     }
    },
    "version_major": 2,
    "version_minor": 0
   }
  }
 },
 "nbformat": 4,
 "nbformat_minor": 5
}
